{
 "cells": [
  {
   "cell_type": "code",
   "execution_count": 2,
   "metadata": {},
   "outputs": [],
   "source": [
    "import csv\n",
    "import numpy as np\n",
    "from sklearn.utils import shuffle\n",
    "from keras.models import Model\n",
    "from keras.layers import Dense, Input, Dropout, LSTM, Activation\n",
    "from keras.layers.embeddings import Embedding\n",
    "from keras.preprocessing import sequence\n",
    "from keras.initializers import glorot_uniform"
   ]
  },
  {
   "cell_type": "code",
   "execution_count": 3,
   "metadata": {},
   "outputs": [],
   "source": [
    "def process_data(file_list_with_labels, output='../data/data_set.txt', output_label = '../data/labels.txt'):\n",
    "    phrase = []\n",
    "    emoji = []\n",
    "\n",
    "    with open (output, 'w') as output_file, open(output_label, 'w') as label_file:\n",
    "        \n",
    "        for filename, label in file_list_with_labels:\n",
    "            print('Processing file: ', filename)\n",
    "            with open (filename) as f:\n",
    "                  for line in f:\n",
    "                    line = line.strip()\n",
    "                    if len(line)>0:\n",
    "                        line = line.replace(\",\",\"\")\n",
    "                        output_file.write(line + '\\r\\n')\n",
    "                        label_file.write(label + '\\r\\n')\n",
    "                        phrase.append(0)\n",
    "    "
   ]
  },
  {
   "cell_type": "code",
   "execution_count": 4,
   "metadata": {},
   "outputs": [],
   "source": [
    "def read_glove_vecs(glove_file):\n",
    "    with open(glove_file, 'r') as f:\n",
    "        words = set()\n",
    "        word_to_vec_map = {}\n",
    "        for line in f:\n",
    "            line = line.strip().split()\n",
    "            curr_word = line[0]\n",
    "            words.add(curr_word)\n",
    "            word_to_vec_map[curr_word] = np.array(line[1:], dtype=np.float64)\n",
    "        \n",
    "        i = 1\n",
    "        words_to_index = {}\n",
    "        index_to_words = {}\n",
    "        for w in sorted(words):\n",
    "            words_to_index[w] = i\n",
    "            index_to_words[i] = w\n",
    "            i = i + 1\n",
    "    return words_to_index, index_to_words, word_to_vec_map"
   ]
  },
  {
   "cell_type": "code",
   "execution_count": 5,
   "metadata": {},
   "outputs": [],
   "source": [
    "word_to_index, index_to_word, word_to_vec_map = read_glove_vecs('../data/glove.6B/glove.6B.50d.txt')"
   ]
  },
  {
   "cell_type": "code",
   "execution_count": 6,
   "metadata": {},
   "outputs": [
    {
     "name": "stdout",
     "output_type": "stream",
     "text": [
      "the index of guys in the vocabulary is 169754\n",
      "the 289846th word in the vocabulary is potatos\n",
      "400000\n"
     ]
    }
   ],
   "source": [
    "word = \"guys\"\n",
    "index = 289846\n",
    "print(\"the index of\", word, \"in the vocabulary is\", word_to_index[word])\n",
    "print(\"the\", str(index) + \"th word in the vocabulary is\", index_to_word[index])\n",
    "print(len(word_to_index))"
   ]
  },
  {
   "cell_type": "code",
   "execution_count": 7,
   "metadata": {},
   "outputs": [],
   "source": [
    "def sentences_to_indices(X, word_to_index, max_len):\n",
    "    \"\"\"\n",
    "    Converts an array of sentences (strings) into an array of indices corresponding to words in the sentences.\n",
    "    The output shape should be such that it can be given to `Embedding()` (described in Figure 4). \n",
    "    \n",
    "    Arguments:\n",
    "    X -- array of sentences (strings), of shape (m, 1)\n",
    "    word_to_index -- a dictionary containing the each word mapped to its index\n",
    "    max_len -- maximum number of words in a sentence. You can assume every sentence in X is no longer than this. \n",
    "    \n",
    "    Returns:\n",
    "    X_indices -- array of indices corresponding to words in the sentences from X, of shape (m, max_len)\n",
    "    \"\"\"\n",
    "    \n",
    "    m = X.shape[0]                                   # number of training examples\n",
    "    \n",
    "    ### START CODE HERE ###\n",
    "    # Initialize X_indices as a numpy matrix of zeros and the correct shape (≈ 1 line)\n",
    "    X_indices = np.zeros((m, max_len))\n",
    "    \n",
    "    for i in range(m):                               # loop over training examples\n",
    "        \n",
    "        # Convert the ith training sentence in lower case and split is into words. You should get a list of words.\n",
    "        sentence_words =X[i].lower().split()\n",
    "        \n",
    "        # Initialize j to 0\n",
    "        j = 0\n",
    "        \n",
    "        # Loop over the words of sentence_words\n",
    "        for w in sentence_words:\n",
    "            # Set the (i,j)th entry of X_indices to the index of the correct word.\n",
    "            if w in word_to_index:\n",
    "                X_indices[i, j] = word_to_index[w]\n",
    "                # Increment j to j + 1\n",
    "                j = j + 1\n",
    "            \n",
    "    ### END CODE HERE ###\n",
    "    \n",
    "    return X_indices"
   ]
  },
  {
   "cell_type": "code",
   "execution_count": 8,
   "metadata": {},
   "outputs": [
    {
     "name": "stdout",
     "output_type": "stream",
     "text": [
      "Processing file:  ../data/troll.txt\n",
      "Processing file:  ../data/constructive.txt\n",
      "Processing file:  ../data/positive.txt\n"
     ]
    }
   ],
   "source": [
    "file_list_with_labels = []\n",
    "file_list_with_labels.append(('../data/troll.txt', '1'))\n",
    "file_list_with_labels.append(('../data/constructive.txt', '0'))\n",
    "file_list_with_labels.append(('../data/positive.txt', '0'))\n",
    "process_data(file_list_with_labels)"
   ]
  },
  {
   "cell_type": "code",
   "execution_count": 9,
   "metadata": {},
   "outputs": [],
   "source": [
    "def read_processed_data(data_set = '../data/data_set.txt', labels = '../data/labels.txt'):\n",
    "    \n",
    "    X = []\n",
    "    Y = []\n",
    "    \n",
    "    with open(data_set) as data_file:\n",
    "        for line in data_file:\n",
    "            line = line.strip()\n",
    "            if len(line) > 0:\n",
    "                X.append(line)\n",
    "    \n",
    "    with open(labels) as label_file:\n",
    "        for line in label_file:\n",
    "            line = line.strip()\n",
    "            if len(line) > 0:\n",
    "                Y.append(line)\n",
    "                \n",
    "    X = np.asarray(X)\n",
    "    Y = np.asarray(Y, dtype=int)\n",
    "    \n",
    "    return X, Y\n",
    "    "
   ]
  },
  {
   "cell_type": "code",
   "execution_count": 10,
   "metadata": {},
   "outputs": [],
   "source": [
    "X, Y = read_processed_data()"
   ]
  },
  {
   "cell_type": "code",
   "execution_count": 11,
   "metadata": {},
   "outputs": [
    {
     "name": "stdout",
     "output_type": "stream",
     "text": [
      "X :  150\n",
      "Y :  150\n"
     ]
    }
   ],
   "source": [
    "print('X : ', len(X))\n",
    "print('Y : ', len(Y))"
   ]
  },
  {
   "cell_type": "code",
   "execution_count": 12,
   "metadata": {},
   "outputs": [
    {
     "name": "stdout",
     "output_type": "stream",
     "text": [
      "Sean Murray and Hello Games this silence is deafening. 1\n"
     ]
    }
   ],
   "source": [
    "X, Y = shuffle(X, Y, random_state=0)\n",
    "print(X[len(X) - 1], Y[len(Y) - 1])"
   ]
  },
  {
   "cell_type": "code",
   "execution_count": 13,
   "metadata": {},
   "outputs": [],
   "source": [
    "def find_max_len(X):\n",
    "    \n",
    "    max_len = 0\n",
    "    max_line = None\n",
    "    max_array = []\n",
    "    \n",
    "    \n",
    "    for line in X:\n",
    "        sentence_words =line.lower().split()\n",
    "        if len(sentence_words) > max_len:\n",
    "            max_len = len(sentence_words)\n",
    "            max_line = line \n",
    "            max_array = sentence_words\n",
    "    \n",
    "    print ('Max length is ', max_len)\n",
    "    print(max_line)\n",
    "    print(max_array)\n",
    "    \n",
    "    return max_len"
   ]
  },
  {
   "cell_type": "code",
   "execution_count": 14,
   "metadata": {},
   "outputs": [
    {
     "name": "stdout",
     "output_type": "stream",
     "text": [
      "Max length is  54\n",
      "Look guys. Anthem is in a bad place right now but remember to be civil towards the devs. They are people too and probably under a bit of stress right now. Voice your feedback but be considerate and most of all remember there is an actual living person on the other side of it.\n",
      "['look', 'guys.', 'anthem', 'is', 'in', 'a', 'bad', 'place', 'right', 'now', 'but', 'remember', 'to', 'be', 'civil', 'towards', 'the', 'devs.', 'they', 'are', 'people', 'too', 'and', 'probably', 'under', 'a', 'bit', 'of', 'stress', 'right', 'now.', 'voice', 'your', 'feedback', 'but', 'be', 'considerate', 'and', 'most', 'of', 'all', 'remember', 'there', 'is', 'an', 'actual', 'living', 'person', 'on', 'the', 'other', 'side', 'of', 'it.']\n"
     ]
    }
   ],
   "source": [
    "max_len = find_max_len(X)"
   ]
  },
  {
   "cell_type": "code",
   "execution_count": 15,
   "metadata": {},
   "outputs": [],
   "source": [
    "def create_train_dev_test(X, Y, split):\n",
    "    \n",
    "    X, Y = shuffle(X, Y)\n",
    "    \n",
    "    mode = split[0]\n",
    "    \n",
    "    if mode == 'tt':\n",
    "        train_size, test_size = split[1]\n",
    "        \n",
    "        X_train = X[:train_size]\n",
    "        Y_train = Y[:train_size]\n",
    "    \n",
    "        X_test = X[train_size:]\n",
    "        Y_test = Y[train_size:]\n",
    "        \n",
    "        print('Size of test set : ', len(X_train))\n",
    "        print('Size of train set : ', len(X_test))\n",
    "    \n",
    "        result = (X_train, Y_train, X_test, Y_test)\n",
    "        \n",
    "    else:\n",
    "        \n",
    "        train_size, dev_size, test_size = split[1]\n",
    "        \n",
    "        X_train = X[:train_size]\n",
    "        Y_train = Y[:train_size]\n",
    "    \n",
    "        X_dev = X[train_size:train_size + dev_size]\n",
    "        Y_dev = Y[train_size:train_size + dev_size]\n",
    "    \n",
    "        X_test = X[train_size + dev_size:]\n",
    "        Y_test = Y[train_size + dev_size:]\n",
    "        \n",
    "        print('Size of test set : ', len(X_train))\n",
    "        print('Size of dev set : ', len(X_dev))\n",
    "        print('Size of train set : ', len(X_test))\n",
    "    \n",
    "        result = (X_train, Y_train, X_dev, Y_dev, X_test, Y_test)\n",
    "\n",
    "    \n",
    "    return result\n",
    "    "
   ]
  },
  {
   "cell_type": "code",
   "execution_count": 16,
   "metadata": {},
   "outputs": [
    {
     "name": "stdout",
     "output_type": "stream",
     "text": [
      "Size of test set :  100\n",
      "Size of dev set :  25\n",
      "Size of train set :  25\n"
     ]
    }
   ],
   "source": [
    "X_train, Y_train, X_dev, Y_dev, X_test, Y_test = create_train_dev_test(X, Y, ['tvt', (100, 25, 25)])"
   ]
  },
  {
   "cell_type": "code",
   "execution_count": 17,
   "metadata": {},
   "outputs": [
    {
     "name": "stdout",
     "output_type": "stream",
     "text": [
      "To prevent EA from astroturfing/planting questions in the upcoming AMA the mods of this subreddit should create a thread for what questions we want answered post that list when the AMA goes up then delete any other comment thats not it forcing EA to either ditch the AMA or answer the questions. 1\n"
     ]
    }
   ],
   "source": [
    "print(X_train[len(X_train) - 1], Y_train[len(Y_train) - 1])"
   ]
  },
  {
   "cell_type": "code",
   "execution_count": 18,
   "metadata": {},
   "outputs": [
    {
     "name": "stdout",
     "output_type": "stream",
     "text": [
      "Size of test set :  100\n",
      "Size of train set :  50\n"
     ]
    }
   ],
   "source": [
    "X_train, Y_train, X_test, Y_test = create_train_dev_test(X, Y, ['tt', (100, 50)])"
   ]
  },
  {
   "cell_type": "code",
   "execution_count": 19,
   "metadata": {},
   "outputs": [
    {
     "name": "stdout",
     "output_type": "stream",
     "text": [
      "(100,)\n"
     ]
    }
   ],
   "source": [
    "print(Y_train.shape)"
   ]
  },
  {
   "cell_type": "code",
   "execution_count": 20,
   "metadata": {},
   "outputs": [],
   "source": [
    "def pretrained_embedding_layer(word_to_vec_map, word_to_index):\n",
    "    \"\"\"\n",
    "    Creates a Keras Embedding() layer and loads in pre-trained GloVe 50-dimensional vectors.\n",
    "    \n",
    "    Arguments:\n",
    "    word_to_vec_map -- dictionary mapping words to their GloVe vector representation.\n",
    "    word_to_index -- dictionary mapping from words to their indices in the vocabulary (400,001 words)\n",
    "\n",
    "    Returns:\n",
    "    embedding_layer -- pretrained layer Keras instance\n",
    "    \"\"\"\n",
    "    \n",
    "    vocab_len = len(word_to_index) + 1                  # adding 1 to fit Keras embedding (requirement)\n",
    "    emb_dim = word_to_vec_map[\"cucumber\"].shape[0]      # define dimensionality of your GloVe word vectors (= 50)\n",
    "    \n",
    "    ### START CODE HERE ###\n",
    "    # Initialize the embedding matrix as a numpy array of zeros of shape (vocab_len, dimensions of word vectors = emb_dim)\n",
    "    emb_matrix = np.zeros((vocab_len, emb_dim))\n",
    "    \n",
    "    # Set each row \"index\" of the embedding matrix to be the word vector representation of the \"index\"th word of the vocabulary\n",
    "    for word, index in word_to_index.items():\n",
    "        emb_matrix[index, :] = word_to_vec_map[word]\n",
    "\n",
    "    # Define Keras embedding layer with the correct output/input sizes, make it non-trainable. Use Embedding(...). Make sure to set trainable=False. \n",
    "    embedding_layer = Embedding(vocab_len, emb_dim, trainable=False)\n",
    "    ### END CODE HERE ###\n",
    "\n",
    "    # Build the embedding layer, it is required before setting the weights of the embedding layer. Do not modify the \"None\".\n",
    "    embedding_layer.build((None,))\n",
    "    \n",
    "    # Set the weights of the embedding layer to the embedding matrix. Your layer is now pretrained.\n",
    "    embedding_layer.set_weights([emb_matrix])\n",
    "    \n",
    "    return embedding_layer"
   ]
  },
  {
   "cell_type": "code",
   "execution_count": 21,
   "metadata": {},
   "outputs": [],
   "source": [
    "def CommentNet(input_shape, word_to_vec_map, word_to_index):\n",
    "    \"\"\"\n",
    "    Function creating the Emojify-v2 model's graph.\n",
    "    \n",
    "    Arguments:\n",
    "    input_shape -- shape of the input, usually (max_len,)\n",
    "    word_to_vec_map -- dictionary mapping every word in a vocabulary into its 50-dimensional vector representation\n",
    "    word_to_index -- dictionary mapping from words to their indices in the vocabulary (400,001 words)\n",
    "\n",
    "    Returns:\n",
    "    model -- a model instance in Keras\n",
    "    \"\"\"\n",
    "    \n",
    "    ### START CODE HERE ###\n",
    "    # Define sentence_indices as the input of the graph, it should be of shape input_shape and dtype 'int32' (as it contains indices).\n",
    "    sentence_indices = Input(shape = input_shape, dtype = 'int32')\n",
    "    \n",
    "    # Create the embedding layer pretrained with GloVe Vectors (≈1 line)\n",
    "    embedding_layer = pretrained_embedding_layer(word_to_vec_map, word_to_index)\n",
    "    \n",
    "    # Propagate sentence_indices through your embedding layer, you get back the embeddings\n",
    "    embeddings = embedding_layer(sentence_indices)   \n",
    "    \n",
    "    # Propagate the embeddings through an LSTM layer with 128-dimensional hidden state\n",
    "    # Be careful, the returned output should be a batch of sequences.\n",
    "    X = LSTM(128, return_sequences = True)(embeddings)\n",
    "    # Add dropout with a probability of 0.5\n",
    "    X = Dropout(rate = 0.5)(X)\n",
    "    # Propagate X trough another LSTM layer with 128-dimensional hidden state\n",
    "    # Be careful, the returned output should be a single hidden state, not a batch of sequences.\n",
    "    X = LSTM(128)(X)\n",
    "    # Add dropout with a probability of 0.5\n",
    "    X = Dropout(rate = 0.5)(X)\n",
    "    # Propagate X through a Dense layer with softmax activation to get back a batch of 5-dimensional vectors.\n",
    "    X = Dense(1, activation='sigmoid')(X)\n",
    "    \n",
    "    # Create Model instance which converts sentence_indices into X.\n",
    "    model = Model(inputs = sentence_indices, outputs = X)\n",
    "    \n",
    "    ### END CODE HERE ###\n",
    "    \n",
    "    return model"
   ]
  },
  {
   "cell_type": "code",
   "execution_count": 22,
   "metadata": {},
   "outputs": [
    {
     "name": "stderr",
     "output_type": "stream",
     "text": [
      "WARNING: Logging before flag parsing goes to stderr.\n",
      "W0727 16:44:01.449267 4445447616 deprecation_wrapper.py:119] From /Users/dulithadabare/anaconda3/envs/comment-net-nomkl/lib/python3.7/site-packages/keras/backend/tensorflow_backend.py:74: The name tf.get_default_graph is deprecated. Please use tf.compat.v1.get_default_graph instead.\n",
      "\n",
      "W0727 16:44:01.487322 4445447616 deprecation_wrapper.py:119] From /Users/dulithadabare/anaconda3/envs/comment-net-nomkl/lib/python3.7/site-packages/keras/backend/tensorflow_backend.py:517: The name tf.placeholder is deprecated. Please use tf.compat.v1.placeholder instead.\n",
      "\n",
      "W0727 16:44:02.333242 4445447616 deprecation_wrapper.py:119] From /Users/dulithadabare/anaconda3/envs/comment-net-nomkl/lib/python3.7/site-packages/keras/backend/tensorflow_backend.py:4138: The name tf.random_uniform is deprecated. Please use tf.random.uniform instead.\n",
      "\n",
      "W0727 16:44:02.353927 4445447616 deprecation_wrapper.py:119] From /Users/dulithadabare/anaconda3/envs/comment-net-nomkl/lib/python3.7/site-packages/keras/backend/tensorflow_backend.py:174: The name tf.get_default_session is deprecated. Please use tf.compat.v1.get_default_session instead.\n",
      "\n",
      "W0727 16:44:02.354821 4445447616 deprecation_wrapper.py:119] From /Users/dulithadabare/anaconda3/envs/comment-net-nomkl/lib/python3.7/site-packages/keras/backend/tensorflow_backend.py:181: The name tf.ConfigProto is deprecated. Please use tf.compat.v1.ConfigProto instead.\n",
      "\n",
      "W0727 16:44:03.091523 4445447616 deprecation.py:506] From /Users/dulithadabare/anaconda3/envs/comment-net-nomkl/lib/python3.7/site-packages/keras/backend/tensorflow_backend.py:3445: calling dropout (from tensorflow.python.ops.nn_ops) with keep_prob is deprecated and will be removed in a future version.\n",
      "Instructions for updating:\n",
      "Please use `rate` instead of `keep_prob`. Rate should be set to `rate = 1 - keep_prob`.\n"
     ]
    }
   ],
   "source": [
    "model = CommentNet((max_len,), word_to_vec_map, word_to_index)"
   ]
  },
  {
   "cell_type": "code",
   "execution_count": 23,
   "metadata": {},
   "outputs": [
    {
     "name": "stdout",
     "output_type": "stream",
     "text": [
      "_________________________________________________________________\n",
      "Layer (type)                 Output Shape              Param #   \n",
      "=================================================================\n",
      "input_1 (InputLayer)         (None, 54)                0         \n",
      "_________________________________________________________________\n",
      "embedding_1 (Embedding)      (None, 54, 50)            20000050  \n",
      "_________________________________________________________________\n",
      "lstm_1 (LSTM)                (None, 54, 128)           91648     \n",
      "_________________________________________________________________\n",
      "dropout_1 (Dropout)          (None, 54, 128)           0         \n",
      "_________________________________________________________________\n",
      "lstm_2 (LSTM)                (None, 128)               131584    \n",
      "_________________________________________________________________\n",
      "dropout_2 (Dropout)          (None, 128)               0         \n",
      "_________________________________________________________________\n",
      "dense_1 (Dense)              (None, 1)                 129       \n",
      "=================================================================\n",
      "Total params: 20,223,411\n",
      "Trainable params: 223,361\n",
      "Non-trainable params: 20,000,050\n",
      "_________________________________________________________________\n"
     ]
    }
   ],
   "source": [
    "model.summary()"
   ]
  },
  {
   "cell_type": "code",
   "execution_count": 24,
   "metadata": {},
   "outputs": [
    {
     "name": "stderr",
     "output_type": "stream",
     "text": [
      "W0727 16:44:03.359050 4445447616 deprecation_wrapper.py:119] From /Users/dulithadabare/anaconda3/envs/comment-net-nomkl/lib/python3.7/site-packages/keras/optimizers.py:790: The name tf.train.Optimizer is deprecated. Please use tf.compat.v1.train.Optimizer instead.\n",
      "\n",
      "W0727 16:44:03.385862 4445447616 deprecation.py:323] From /Users/dulithadabare/anaconda3/envs/comment-net-nomkl/lib/python3.7/site-packages/tensorflow/python/ops/nn_impl.py:180: add_dispatch_support.<locals>.wrapper (from tensorflow.python.ops.array_ops) is deprecated and will be removed in a future version.\n",
      "Instructions for updating:\n",
      "Use tf.where in 2.0, which has the same broadcast rule as np.where\n"
     ]
    }
   ],
   "source": [
    "model.compile(loss='binary_crossentropy', optimizer='adam', metrics=['accuracy'])"
   ]
  },
  {
   "cell_type": "code",
   "execution_count": 25,
   "metadata": {},
   "outputs": [],
   "source": [
    "X_train_indices = sentences_to_indices(X_train, word_to_index, max_len)"
   ]
  },
  {
   "cell_type": "code",
   "execution_count": 34,
   "metadata": {},
   "outputs": [
    {
     "name": "stdout",
     "output_type": "stream",
     "text": [
      "Epoch 1/50\n",
      "100/100 [==============================] - 0s 5ms/step - loss: 0.3018 - acc: 0.8900\n",
      "Epoch 2/50\n",
      "100/100 [==============================] - 0s 4ms/step - loss: 0.2539 - acc: 0.9100\n",
      "Epoch 3/50\n",
      "100/100 [==============================] - 0s 5ms/step - loss: 0.2190 - acc: 0.9500\n",
      "Epoch 4/50\n",
      "100/100 [==============================] - 0s 4ms/step - loss: 0.2035 - acc: 0.9500\n",
      "Epoch 5/50\n",
      "100/100 [==============================] - 0s 4ms/step - loss: 0.1830 - acc: 0.9500\n",
      "Epoch 6/50\n",
      "100/100 [==============================] - 0s 4ms/step - loss: 0.1782 - acc: 0.9500\n",
      "Epoch 7/50\n",
      "100/100 [==============================] - 0s 4ms/step - loss: 0.2018 - acc: 0.9500\n",
      "Epoch 8/50\n",
      "100/100 [==============================] - 0s 5ms/step - loss: 0.2014 - acc: 0.9500\n",
      "Epoch 9/50\n",
      "100/100 [==============================] - 0s 5ms/step - loss: 0.1911 - acc: 0.9500\n",
      "Epoch 10/50\n",
      "100/100 [==============================] - 0s 5ms/step - loss: 0.1829 - acc: 0.9500\n",
      "Epoch 11/50\n",
      "100/100 [==============================] - 0s 4ms/step - loss: 0.1811 - acc: 0.9600\n",
      "Epoch 12/50\n",
      "100/100 [==============================] - 0s 4ms/step - loss: 0.1638 - acc: 0.9600\n",
      "Epoch 13/50\n",
      "100/100 [==============================] - 0s 4ms/step - loss: 0.1602 - acc: 0.9600\n",
      "Epoch 14/50\n",
      "100/100 [==============================] - 0s 4ms/step - loss: 0.1882 - acc: 0.9400\n",
      "Epoch 15/50\n",
      "100/100 [==============================] - 0s 4ms/step - loss: 0.1875 - acc: 0.9500\n",
      "Epoch 16/50\n",
      "100/100 [==============================] - 0s 4ms/step - loss: 0.2904 - acc: 0.9100\n",
      "Epoch 17/50\n",
      "100/100 [==============================] - 0s 4ms/step - loss: 0.4103 - acc: 0.8600\n",
      "Epoch 18/50\n",
      "100/100 [==============================] - 0s 4ms/step - loss: 0.1994 - acc: 0.9400\n",
      "Epoch 19/50\n",
      "100/100 [==============================] - 0s 5ms/step - loss: 0.2828 - acc: 0.9100\n",
      "Epoch 20/50\n",
      "100/100 [==============================] - 0s 4ms/step - loss: 0.2424 - acc: 0.9500\n",
      "Epoch 21/50\n",
      "100/100 [==============================] - 1s 6ms/step - loss: 0.2341 - acc: 0.9100\n",
      "Epoch 22/50\n",
      "100/100 [==============================] - 0s 5ms/step - loss: 0.1913 - acc: 0.9500\n",
      "Epoch 23/50\n",
      "100/100 [==============================] - 0s 4ms/step - loss: 0.1606 - acc: 0.9600\n",
      "Epoch 24/50\n",
      "100/100 [==============================] - 0s 4ms/step - loss: 0.2114 - acc: 0.9400\n",
      "Epoch 25/50\n",
      "100/100 [==============================] - 0s 4ms/step - loss: 0.1719 - acc: 0.9600\n",
      "Epoch 26/50\n",
      "100/100 [==============================] - 0s 4ms/step - loss: 0.1593 - acc: 0.9600\n",
      "Epoch 27/50\n",
      "100/100 [==============================] - 0s 4ms/step - loss: 0.1167 - acc: 0.9700\n",
      "Epoch 28/50\n",
      "100/100 [==============================] - 0s 4ms/step - loss: 0.1205 - acc: 0.9700\n",
      "Epoch 29/50\n",
      "100/100 [==============================] - 0s 4ms/step - loss: 0.1494 - acc: 0.9600\n",
      "Epoch 30/50\n",
      "100/100 [==============================] - 0s 5ms/step - loss: 0.1238 - acc: 0.9700\n",
      "Epoch 31/50\n",
      "100/100 [==============================] - 0s 4ms/step - loss: 0.1331 - acc: 0.9700\n",
      "Epoch 32/50\n",
      "100/100 [==============================] - 0s 5ms/step - loss: 0.1270 - acc: 0.9700\n",
      "Epoch 33/50\n",
      "100/100 [==============================] - 0s 4ms/step - loss: 0.1347 - acc: 0.9700\n",
      "Epoch 34/50\n",
      "100/100 [==============================] - 0s 4ms/step - loss: 0.1280 - acc: 0.9700\n",
      "Epoch 35/50\n",
      "100/100 [==============================] - 0s 4ms/step - loss: 0.1314 - acc: 0.9700\n",
      "Epoch 36/50\n",
      "100/100 [==============================] - 0s 4ms/step - loss: 0.1336 - acc: 0.9700\n",
      "Epoch 37/50\n",
      "100/100 [==============================] - 0s 4ms/step - loss: 0.1170 - acc: 0.9700\n",
      "Epoch 38/50\n",
      "100/100 [==============================] - 0s 5ms/step - loss: 0.1339 - acc: 0.9700\n",
      "Epoch 39/50\n",
      "100/100 [==============================] - 1s 6ms/step - loss: 0.1244 - acc: 0.9700\n",
      "Epoch 40/50\n",
      "100/100 [==============================] - 0s 5ms/step - loss: 0.1349 - acc: 0.9700\n",
      "Epoch 41/50\n",
      "100/100 [==============================] - 0s 5ms/step - loss: 0.1297 - acc: 0.9700\n",
      "Epoch 42/50\n",
      "100/100 [==============================] - 0s 4ms/step - loss: 0.1226 - acc: 0.9700\n",
      "Epoch 43/50\n",
      "100/100 [==============================] - 0s 4ms/step - loss: 0.1271 - acc: 0.9700\n",
      "Epoch 44/50\n",
      "100/100 [==============================] - 0s 4ms/step - loss: 0.1172 - acc: 0.9700\n",
      "Epoch 45/50\n",
      "100/100 [==============================] - 0s 4ms/step - loss: 0.1137 - acc: 0.9700\n",
      "Epoch 46/50\n",
      "100/100 [==============================] - 0s 4ms/step - loss: 0.1483 - acc: 0.9500\n",
      "Epoch 47/50\n",
      "100/100 [==============================] - 0s 4ms/step - loss: 0.1464 - acc: 0.9600\n",
      "Epoch 48/50\n",
      "100/100 [==============================] - 0s 4ms/step - loss: 0.1689 - acc: 0.9600\n",
      "Epoch 49/50\n",
      "100/100 [==============================] - 0s 4ms/step - loss: 0.1513 - acc: 0.9600\n",
      "Epoch 50/50\n",
      "100/100 [==============================] - 0s 4ms/step - loss: 0.1082 - acc: 0.9700\n"
     ]
    },
    {
     "data": {
      "text/plain": [
       "<keras.callbacks.History at 0x13070f4e0>"
      ]
     },
     "execution_count": 34,
     "metadata": {},
     "output_type": "execute_result"
    }
   ],
   "source": [
    "model.fit(X_train_indices, Y_train, epochs = 50, batch_size = 32, shuffle=True)"
   ]
  },
  {
   "cell_type": "code",
   "execution_count": 39,
   "metadata": {},
   "outputs": [],
   "source": [
    "X_test_indices = sentences_to_indices(X_test, word_to_index, max_len = max_len)"
   ]
  },
  {
   "cell_type": "code",
   "execution_count": 43,
   "metadata": {},
   "outputs": [
    {
     "name": "stdout",
     "output_type": "stream",
     "text": [
      "50/50 [==============================] - 0s 1ms/step\n",
      "\n",
      "Test accuracy =  0.6999999952316284\n",
      "[0 1 0 1 0 1 0 0 1 1 0 0 1 1 0 1 1 1 1 1 0 1 1 1 1 1 1 1 0 1 1 1 1 1 1 1 1\n",
      " 1 1 1 1 1 1 1 0 1 0 0 0 1]\n"
     ]
    }
   ],
   "source": [
    "loss, acc = model.evaluate(X_test_indices, Y_test)\n",
    "print()\n",
    "print(\"Test accuracy = \", acc)"
   ]
  },
  {
   "cell_type": "code",
   "execution_count": 41,
   "metadata": {},
   "outputs": [
    {
     "name": "stdout",
     "output_type": "stream",
     "text": [
      "Expected label:1 prediction: Just reverse the last update and let us at least enjoy the game pre patch 11. Then come back again after testing 0\n",
      "Expected label:1 prediction: I’m sorry but this game needs a solo mode. 0\n",
      "Expected label:1 prediction: You manifested a game littered with game-breaking errors 0\n",
      "Expected label:1 prediction: Bethesda should extend the beta time tonight 0\n",
      "Expected label:1 prediction: The real reason for LOOT BALANCE and STORE issues in Anthem 0\n",
      "Expected label:1 prediction: Let's be perfectly clear here EA is 100% at fault for the state of the game not gamers. 0\n",
      "Expected label:1 prediction: Enough with the false advertising Bethesda!! 0\n",
      "Expected label:1 prediction: Bethesda quit testing the water with the shitty little kits to see how far you can push gameplay influencing shop items. 0\n",
      "Expected label:1 prediction: Time for a Change of Leadership in Fallout 76 Development 0\n",
      "Expected label:1 prediction: The \"Biggest disappointment\" award on Steam 0\n",
      "Expected label:1 prediction: FO76 free to play? Are you dense? 0\n",
      "Expected label:1 prediction: Despite EA responses do not STOP voicing your opinion! 0\n",
      "Expected label:1 prediction: You fail at demonstrating respect and dialogue with the community 0\n",
      "Expected label:1 prediction: You released a game in full knowledge that its a glorified tech demo at the worst and an unfinished game at its best 0\n",
      "Expected label:1 prediction: I really want to get Battlefront 2 but out of solidarity for the community I will refrain from purchasing it. 0\n",
      "Expected label:1 prediction: Dear Sean Murray and Hello Games 0\n",
      "Expected label:1 prediction: This is exactly what Andromeda looked like before it died: Updates slowing to a trickle. Increased levels of disengagement between devs and community. Prolonged silence. 0\n",
      "Expected label:1 prediction: This stream is a complete embarrassment 0\n",
      "Expected label:1 prediction: Enough Is Enough. This loot discussion shouldn't even be happening. It's ridiculous. 0\n",
      "Expected label:1 prediction: You have destroyed Bioware what was once the bastion of story driven RPG's now a shell of its former glory 0\n",
      "Expected label:1 prediction: EA is the worst thing to happen to Star Wars 0\n",
      "Expected label:1 prediction: You create lackluster end game content 0\n",
      "Expected label:1 prediction: Can we please just have a coop online PvE game? 0\n",
      "Expected label:1 prediction: PSA: We're not demanding free content. We're demanding that this live service game they sold to us AT FULL PRICE is exactly what they said it was. 0\n",
      "Expected label:1 prediction: In light of Bethesda's screw-ups can we be thankful for the companies that get it right? 0\n",
      "Expected label:1 prediction: You never explain the mechanics of your game thus we are forced to speculate and are left dumbfounded 0\n",
      "Expected label:1 prediction: In this game I haven’t felt satisfied with any of my wins yet. Does anybody else want this instead? 0\n",
      "Expected label:1 prediction: Anthem reviews are seemingly harsher than other games because it failed at a time when gamers are just fed up with being overpromised and under delivered. 0\n",
      "Expected label:1 prediction: Its pretty simple a public test server will catch problems BEFORE patches are released 0\n",
      "Expected label:1 prediction: EA doesn’t understand gamers... Anthem survey 0\n",
      "Expected label:1 prediction: Bethesda Please Give Us A Response 0\n",
      "Expected label:1 prediction: I wish I never supported Anthem by buying the game. 0\n",
      "Expected label:1 prediction: This sub is useless 0\n",
      "Expected label:1 prediction: EA Just Played Every Single One of Us for Fools 0\n",
      "Expected label:1 prediction: Open letter to Bethesda Game Studios. You are breaking the goodwill of your player base faster than you are fixing it. 0\n",
      "Expected label:1 prediction: Fire your PR person. I don’t want to be a dick here but seriously- what the hell are they doing. Here let’s try this on for size. 0\n",
      "Test count : 50\n",
      "Error count : 36\n"
     ]
    }
   ],
   "source": [
    "X_test_indices = sentences_to_indices(X_test, word_to_index, max_len)\n",
    "pred = model.predict(X_test_indices)\n",
    "error_count = 0;\n",
    "for i in range(len(X_test)):\n",
    "    x = X_test_indices\n",
    "    num = np.argmax(pred[i])\n",
    "    if(num != Y_test[i]):\n",
    "        error_count = error_count + 1\n",
    "        print('Expected label:'+ str(Y_test[i]) + ' prediction: '+ X_test[i] + ' ' + str(num))\n",
    "print('Test count : ' + str(len(X_test)))\n",
    "print('Error count : ' + str(error_count))"
   ]
  },
  {
   "cell_type": "code",
   "execution_count": 42,
   "metadata": {},
   "outputs": [
    {
     "name": "stdout",
     "output_type": "stream",
     "text": [
      "Expected label:0 prediction: BioWare - Can Colossus PLEASE get Shield Customization as our 4th armor Piece! 0\n",
      "Expected label:0 prediction: [PSA] The Level 1 Defender Rifle is the best weapon in the game(also damage numbers are pointless and don't mean anything) 0\n",
      "Expected label:0 prediction: Remember there are real people who poured their heart and soul into this game. 0\n",
      "Expected label:0 prediction: Bioware has acknowledged that Ranger feels underperforming: here's why it's a mess 0\n",
      "Expected label:0 prediction: Bethesda... Bethesda never changes. 0\n",
      "Expected label:0 prediction: Here's why I think people aren't getting legendaries and a potential bug 0\n",
      "Expected label:0 prediction: More Objective Radar variations based on the original design 0\n",
      "Expected label:0 prediction: I am a day 1 player of NMS and I wanted to show my love for the game developers and the community by making a piece of art for NEXT. I hope you enjoy! 0\n",
      "Expected label:0 prediction: All 4 Javelins feel completely balanced. Not one of them seems to be OP. I think this is something thats going to be under appreciated. Well done Bioware. 0\n",
      "Expected label:0 prediction: Anthem Endgame Loot Guide: How to perfect your build in hours 0\n",
      "Expected label:0 prediction: Share your support & thanks to Hello Games a company that could have just given up but instead they just keep giving 0\n",
      "Expected label:0 prediction: Anyone else think this game is dope and doesn’t deserve all the hate? I mean obviously things need to be fixed but by no means is this game ruined. 0\n",
      "Expected label:0 prediction: The PC version is an afterthought. 0\n",
      "Expected label:0 prediction: I just want to say that I really think that the PvE Focus of Anthem is a huge plus for the game not only because I am not a big fan of PvP but also out of a lot of other reasons: 0\n",
      "Test count : 50\n",
      "Error count : 0\n"
     ]
    }
   ],
   "source": [
    "correct_count = 0;\n",
    "for i in range(len(X_test)):\n",
    "    x = X_test_indices\n",
    "    num = np.argmax(pred[i])\n",
    "    if(num == Y_test[i]):\n",
    "        error_count = error_count + 1\n",
    "        print('Expected label:'+ str(Y_test[i]) + ' prediction: '+ X_test[i] + ' ' + str(num))\n",
    "print('Test count : ' + str(len(X_test)))\n",
    "print('Error count : ' + str(correct_count))"
   ]
  },
  {
   "cell_type": "code",
   "execution_count": null,
   "metadata": {},
   "outputs": [],
   "source": []
  }
 ],
 "metadata": {
  "kernelspec": {
   "display_name": "Python 3",
   "language": "python",
   "name": "python3"
  },
  "language_info": {
   "codemirror_mode": {
    "name": "ipython",
    "version": 3
   },
   "file_extension": ".py",
   "mimetype": "text/x-python",
   "name": "python",
   "nbconvert_exporter": "python",
   "pygments_lexer": "ipython3",
   "version": "3.7.3"
  }
 },
 "nbformat": 4,
 "nbformat_minor": 2
}
