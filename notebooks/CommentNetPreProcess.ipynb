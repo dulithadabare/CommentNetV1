{
 "cells": [
  {
   "cell_type": "code",
   "execution_count": 57,
   "metadata": {},
   "outputs": [],
   "source": [
    "import csv\n",
    "import string\n",
    "import numpy as np\n",
    "from sklearn.utils import shuffle\n",
    "from sklearn.metrics.pairwise import cosine_similarity\n",
    "from keras.models import Model\n",
    "from keras.layers import Dense, Input, Dropout, LSTM, Activation\n",
    "from keras.layers.embeddings import Embedding\n",
    "from keras.preprocessing import sequence\n",
    "from keras.initializers import glorot_uniform"
   ]
  },
  {
   "cell_type": "code",
   "execution_count": 2,
   "metadata": {},
   "outputs": [],
   "source": [
    "def process_data(file_list_with_labels, output='../data/data_set.txt', output_label = '../data/labels.txt'):\n",
    "    phrase = []\n",
    "    emoji = []\n",
    "\n",
    "    with open (output, 'w') as output_file, open(output_label, 'w') as label_file:\n",
    "        \n",
    "        for filename, label in file_list_with_labels:\n",
    "            print('Processing file: ', filename)\n",
    "            with open (filename) as f:\n",
    "                  for line in f:\n",
    "                    line = line.strip()\n",
    "                    if len(line)>0:\n",
    "                        table = str.maketrans({key: None for key in string.punctuation})\n",
    "                        line = line.translate(table)\n",
    "                        output_file.write(line + '\\r\\n')\n",
    "                        label_file.write(label + '\\r\\n')\n",
    "                        phrase.append(0)\n",
    "    "
   ]
  },
  {
   "cell_type": "code",
   "execution_count": 3,
   "metadata": {},
   "outputs": [],
   "source": [
    "def read_unknown_vecs(unknown_file):\n",
    "    \n",
    "    unknown_vector = None\n",
    "    \n",
    "    with open(unknown_file, 'r') as f:\n",
    "        for line in f:\n",
    "            line = line.strip().split()\n",
    "            unknown_vector = np.array(line[0:], dtype=np.float64)\n",
    "    \n",
    "    print('Unknown word vector is', unknown_vector.shape)\n",
    "\n",
    "    return unknown_vector"
   ]
  },
  {
   "cell_type": "code",
   "execution_count": 21,
   "metadata": {},
   "outputs": [],
   "source": [
    "def read_glove_vecs(glove_file):\n",
    "    with open(glove_file, 'r') as f:\n",
    "        words = set()\n",
    "        word_to_vec_map = {}\n",
    "        for line in f:\n",
    "            line = line.strip().split()\n",
    "            curr_word = line[0]\n",
    "            words.add(curr_word)\n",
    "            word_to_vec_map[curr_word] = np.array(line[1:], dtype=np.float64)\n",
    "        \n",
    "        i = 1\n",
    "        words_to_index = {}\n",
    "        index_to_words = {}\n",
    "        for w in sorted(words):\n",
    "            words_to_index[w] = i\n",
    "            index_to_words[i] = w\n",
    "            i = i + 1\n",
    "    return words_to_index, index_to_words, word_to_vec_map, i"
   ]
  },
  {
   "cell_type": "code",
   "execution_count": 22,
   "metadata": {},
   "outputs": [],
   "source": [
    "word_to_index, index_to_word, word_to_vec_map, unknown_word_index = read_glove_vecs('../../../CommentNetData/glove.6B/glove.6B.50d.txt')"
   ]
  },
  {
   "cell_type": "code",
   "execution_count": 6,
   "metadata": {},
   "outputs": [
    {
     "name": "stdout",
     "output_type": "stream",
     "text": [
      "Unknown word vector is (50,)\n"
     ]
    }
   ],
   "source": [
    "unkown_word_vector = read_unknown_vecs('../data/unknown_word_vector.txt')"
   ]
  },
  {
   "cell_type": "code",
   "execution_count": 68,
   "metadata": {},
   "outputs": [
    {
     "name": "stdout",
     "output_type": "stream",
     "text": [
      "the index of ea in the vocabulary is 132265\n",
      "the 74527th word in the vocabulary is bethesda\n",
      "400001\n",
      "(1, 50)\n"
     ]
    },
    {
     "data": {
      "text/plain": [
       "array([[0.21020451]])"
      ]
     },
     "execution_count": 68,
     "metadata": {},
     "output_type": "execute_result"
    }
   ],
   "source": [
    "word = \"ea\"\n",
    "index = 74527\n",
    "print(\"the index of\", word, \"in the vocabulary is\", word_to_index[word])\n",
    "print(\"the\", str(index) + \"th word in the vocabulary is\", index_to_word[index])\n",
    "print(unknown_word_index)\n",
    "print(word_to_vec_map[word].reshape(1, -1).shape)\n",
    "cosine_similarity(word_to_vec_map[\"bethesda\"].reshape(1, -1), word_to_vec_map[\"ea\"].reshape(1, -1))"
   ]
  },
  {
   "cell_type": "code",
   "execution_count": 24,
   "metadata": {},
   "outputs": [],
   "source": [
    "def sentences_to_indices(X, word_to_index, max_len, unknown_word_index):\n",
    "    \"\"\"\n",
    "    Converts an array of sentences (strings) into an array of indices corresponding to words in the sentences.\n",
    "    The output shape should be such that it can be given to `Embedding()` (described in Figure 4). \n",
    "    \n",
    "    Arguments:\n",
    "    X -- array of sentences (strings), of shape (m, 1)\n",
    "    word_to_index -- a dictionary containing the each word mapped to its index\n",
    "    max_len -- maximum number of words in a sentence. You can assume every sentence in X is no longer than this. \n",
    "    \n",
    "    Returns:\n",
    "    X_indices -- array of indices corresponding to words in the sentences from X, of shape (m, max_len)\n",
    "    \"\"\"\n",
    "    \n",
    "    m = X.shape[0]                                   # number of training examples\n",
    "    \n",
    "    ### START CODE HERE ###\n",
    "    # Initialize X_indices as a numpy matrix of zeros and the correct shape (≈ 1 line)\n",
    "    X_indices = np.zeros((m, max_len))\n",
    "    \n",
    "    for i in range(m):                               # loop over training examples\n",
    "        \n",
    "        # Convert the ith training sentence in lower case and split is into words. You should get a list of words.\n",
    "        sentence_words =X[i].lower().split()\n",
    "        \n",
    "        # Initialize j to 0\n",
    "        j = 0\n",
    "        \n",
    "        # Loop over the words of sentence_words\n",
    "        for w in sentence_words:\n",
    "            # Set the (i,j)th entry of X_indices to the index of the correct word.\n",
    "            if w in word_to_index:\n",
    "                X_indices[i, j] = word_to_index[w]\n",
    "                # Increment j to j + 1\n",
    "                j = j + 1\n",
    "            else:\n",
    "                X_indices[i, j] = unknown_word_index\n",
    "                j = j + 1\n",
    "            \n",
    "    ### END CODE HERE ###\n",
    "    \n",
    "    return X_indices"
   ]
  },
  {
   "cell_type": "code",
   "execution_count": 26,
   "metadata": {},
   "outputs": [
    {
     "name": "stdout",
     "output_type": "stream",
     "text": [
      "Processing file:  ../data/troll.txt\n",
      "Processing file:  ../data/constructive.txt\n",
      "Processing file:  ../data/positive.txt\n"
     ]
    }
   ],
   "source": [
    "file_list_with_labels = []\n",
    "file_list_with_labels.append(('../data/troll.txt', '1'))\n",
    "file_list_with_labels.append(('../data/constructive.txt', '0'))\n",
    "file_list_with_labels.append(('../data/positive.txt', '0'))\n",
    "process_data(file_list_with_labels)"
   ]
  },
  {
   "cell_type": "code",
   "execution_count": 27,
   "metadata": {},
   "outputs": [],
   "source": [
    "def read_processed_data(data_set = '../data/data_set.txt', labels = '../data/labels.txt'):\n",
    "    \n",
    "    X = []\n",
    "    Y = []\n",
    "    \n",
    "    with open(data_set) as data_file:\n",
    "        for line in data_file:\n",
    "            line = line.strip()\n",
    "            if len(line) > 0:\n",
    "                X.append(line)\n",
    "    \n",
    "    with open(labels) as label_file:\n",
    "        for line in label_file:\n",
    "            line = line.strip()\n",
    "            if len(line) > 0:\n",
    "                Y.append(line)\n",
    "                \n",
    "    X = np.asarray(X)\n",
    "    Y = np.asarray(Y, dtype=int)\n",
    "    \n",
    "    return X, Y\n",
    "    "
   ]
  },
  {
   "cell_type": "code",
   "execution_count": 28,
   "metadata": {},
   "outputs": [],
   "source": [
    "X, Y = read_processed_data()"
   ]
  },
  {
   "cell_type": "code",
   "execution_count": 29,
   "metadata": {},
   "outputs": [
    {
     "name": "stdout",
     "output_type": "stream",
     "text": [
      "X :  150\n",
      "Y :  150\n"
     ]
    }
   ],
   "source": [
    "print('X : ', len(X))\n",
    "print('Y : ', len(Y))"
   ]
  },
  {
   "cell_type": "code",
   "execution_count": 30,
   "metadata": {},
   "outputs": [
    {
     "name": "stdout",
     "output_type": "stream",
     "text": [
      "Sean Murray and Hello Games this silence is deafening 1\n"
     ]
    }
   ],
   "source": [
    "X, Y = shuffle(X, Y, random_state=0)\n",
    "print(X[len(X) - 1], Y[len(Y) - 1])"
   ]
  },
  {
   "cell_type": "code",
   "execution_count": 31,
   "metadata": {},
   "outputs": [],
   "source": [
    "def find_max_len(X):\n",
    "    \n",
    "    max_len = 0\n",
    "    max_line = None\n",
    "    max_array = []\n",
    "    \n",
    "    \n",
    "    for line in X:\n",
    "        sentence_words =line.lower().split()\n",
    "        if len(sentence_words) > max_len:\n",
    "            max_len = len(sentence_words)\n",
    "            max_line = line \n",
    "            max_array = sentence_words\n",
    "    \n",
    "    print ('Max length is ', max_len)\n",
    "    print(max_line)\n",
    "    print(max_array)\n",
    "    \n",
    "    return max_len"
   ]
  },
  {
   "cell_type": "code",
   "execution_count": 32,
   "metadata": {},
   "outputs": [
    {
     "name": "stdout",
     "output_type": "stream",
     "text": [
      "Max length is  54\n",
      "Look guys Anthem is in a bad place right now but remember to be civil towards the devs They are people too and probably under a bit of stress right now Voice your feedback but be considerate and most of all remember there is an actual living person on the other side of it\n",
      "['look', 'guys', 'anthem', 'is', 'in', 'a', 'bad', 'place', 'right', 'now', 'but', 'remember', 'to', 'be', 'civil', 'towards', 'the', 'devs', 'they', 'are', 'people', 'too', 'and', 'probably', 'under', 'a', 'bit', 'of', 'stress', 'right', 'now', 'voice', 'your', 'feedback', 'but', 'be', 'considerate', 'and', 'most', 'of', 'all', 'remember', 'there', 'is', 'an', 'actual', 'living', 'person', 'on', 'the', 'other', 'side', 'of', 'it']\n"
     ]
    }
   ],
   "source": [
    "max_len = find_max_len(X)"
   ]
  },
  {
   "cell_type": "code",
   "execution_count": 33,
   "metadata": {},
   "outputs": [],
   "source": [
    "def create_train_dev_test(X, Y, split):\n",
    "    \n",
    "    X, Y = shuffle(X, Y)\n",
    "    \n",
    "    mode = split[0]\n",
    "    \n",
    "    if mode == 'tt':\n",
    "        train_size, test_size = split[1]\n",
    "        \n",
    "        X_train = X[:train_size]\n",
    "        Y_train = Y[:train_size]\n",
    "    \n",
    "        X_test = X[train_size:]\n",
    "        Y_test = Y[train_size:]\n",
    "        \n",
    "        print('Size of test set : ', len(X_train))\n",
    "        print('Size of train set : ', len(X_test))\n",
    "    \n",
    "        result = (X_train, Y_train, X_test, Y_test)\n",
    "        \n",
    "    else:\n",
    "        \n",
    "        train_size, dev_size, test_size = split[1]\n",
    "        \n",
    "        X_train = X[:train_size]\n",
    "        Y_train = Y[:train_size]\n",
    "    \n",
    "        X_dev = X[train_size:train_size + dev_size]\n",
    "        Y_dev = Y[train_size:train_size + dev_size]\n",
    "    \n",
    "        X_test = X[train_size + dev_size:]\n",
    "        Y_test = Y[train_size + dev_size:]\n",
    "        \n",
    "        print('Size of test set : ', len(X_train))\n",
    "        print('Size of dev set : ', len(X_dev))\n",
    "        print('Size of train set : ', len(X_test))\n",
    "    \n",
    "        result = (X_train, Y_train, X_dev, Y_dev, X_test, Y_test)\n",
    "\n",
    "    \n",
    "    return result\n",
    "    "
   ]
  },
  {
   "cell_type": "code",
   "execution_count": 34,
   "metadata": {},
   "outputs": [
    {
     "name": "stdout",
     "output_type": "stream",
     "text": [
      "Size of test set :  100\n",
      "Size of dev set :  25\n",
      "Size of train set :  25\n"
     ]
    }
   ],
   "source": [
    "X_train, Y_train, X_dev, Y_dev, X_test, Y_test = create_train_dev_test(X, Y, ['tvt', (100, 25, 25)])"
   ]
  },
  {
   "cell_type": "code",
   "execution_count": 35,
   "metadata": {},
   "outputs": [
    {
     "name": "stdout",
     "output_type": "stream",
     "text": [
      "Saw my physical copy of no mans sky on the shelf 1\n"
     ]
    }
   ],
   "source": [
    "print(X_train[len(X_train) - 1], Y_train[len(Y_train) - 1])"
   ]
  },
  {
   "cell_type": "code",
   "execution_count": 36,
   "metadata": {},
   "outputs": [
    {
     "name": "stdout",
     "output_type": "stream",
     "text": [
      "Size of test set :  100\n",
      "Size of train set :  50\n"
     ]
    }
   ],
   "source": [
    "X_train, Y_train, X_test, Y_test = create_train_dev_test(X, Y, ['tt', (100, 50)])"
   ]
  },
  {
   "cell_type": "code",
   "execution_count": 37,
   "metadata": {},
   "outputs": [
    {
     "name": "stdout",
     "output_type": "stream",
     "text": [
      "(100,)\n"
     ]
    }
   ],
   "source": [
    "print(Y_train.shape)"
   ]
  },
  {
   "cell_type": "code",
   "execution_count": 38,
   "metadata": {},
   "outputs": [],
   "source": [
    "def pretrained_embedding_layer(word_to_vec_map, word_to_index, unkown_word_vector, unknown_word_index):\n",
    "    \"\"\"\n",
    "    Creates a Keras Embedding() layer and loads in pre-trained GloVe 50-dimensional vectors.\n",
    "    \n",
    "    Arguments:\n",
    "    word_to_vec_map -- dictionary mapping words to their GloVe vector representation.\n",
    "    word_to_index -- dictionary mapping from words to their indices in the vocabulary (400,001 words)\n",
    "\n",
    "    Returns:\n",
    "    embedding_layer -- pretrained layer Keras instance\n",
    "    \"\"\"\n",
    "    \n",
    "    vocab_len = unknown_word_index + 1                  # adding 1 to fit Keras embedding (requirement)\n",
    "    emb_dim = word_to_vec_map[\"cucumber\"].shape[0]      # define dimensionality of your GloVe word vectors (= 50)\n",
    "    \n",
    "    ### START CODE HERE ###\n",
    "    # Initialize the embedding matrix as a numpy array of zeros of shape (vocab_len, dimensions of word vectors = emb_dim)\n",
    "    emb_matrix = np.zeros((vocab_len, emb_dim))\n",
    "    \n",
    "    # Set each row \"index\" of the embedding matrix to be the word vector representation of the \"index\"th word of the vocabulary\n",
    "    for word, index in word_to_index.items():\n",
    "        emb_matrix[index, :] = word_to_vec_map[word]\n",
    "    \n",
    "    emb_matrix[unknown_word_index, :] = unkown_word_vector\n",
    "\n",
    "    # Define Keras embedding layer with the correct output/input sizes, make it non-trainable. Use Embedding(...). Make sure to set trainable=False. \n",
    "    embedding_layer = Embedding(vocab_len, emb_dim, trainable=False)\n",
    "    ### END CODE HERE ###\n",
    "\n",
    "    # Build the embedding layer, it is required before setting the weights of the embedding layer. Do not modify the \"None\".\n",
    "    embedding_layer.build((None,))\n",
    "    \n",
    "    # Set the weights of the embedding layer to the embedding matrix. Your layer is now pretrained.\n",
    "    embedding_layer.set_weights([emb_matrix])\n",
    "    \n",
    "    return embedding_layer"
   ]
  },
  {
   "cell_type": "code",
   "execution_count": 39,
   "metadata": {},
   "outputs": [],
   "source": [
    "def CommentNet(input_shape, word_to_vec_map, word_to_index, unkown_word_vector, unknown_word_index):\n",
    "    \"\"\"\n",
    "    Function creating the Emojify-v2 model's graph.\n",
    "    \n",
    "    Arguments:\n",
    "    input_shape -- shape of the input, usually (max_len,)\n",
    "    word_to_vec_map -- dictionary mapping every word in a vocabulary into its 50-dimensional vector representation\n",
    "    word_to_index -- dictionary mapping from words to their indices in the vocabulary (400,001 words)\n",
    "\n",
    "    Returns:\n",
    "    model -- a model instance in Keras\n",
    "    \"\"\"\n",
    "    \n",
    "    ### START CODE HERE ###\n",
    "    # Define sentence_indices as the input of the graph, it should be of shape input_shape and dtype 'int32' (as it contains indices).\n",
    "    sentence_indices = Input(shape = input_shape, dtype = 'int32')\n",
    "    \n",
    "    # Create the embedding layer pretrained with GloVe Vectors (≈1 line)\n",
    "    embedding_layer = pretrained_embedding_layer(word_to_vec_map, word_to_index, unkown_word_vector, unknown_word_index)\n",
    "    \n",
    "    # Propagate sentence_indices through your embedding layer, you get back the embeddings\n",
    "    embeddings = embedding_layer(sentence_indices)   \n",
    "    \n",
    "    # Propagate the embeddings through an LSTM layer with 128-dimensional hidden state\n",
    "    # Be careful, the returned output should be a batch of sequences.\n",
    "    X = LSTM(128, return_sequences = True)(embeddings)\n",
    "    # Add dropout with a probability of 0.5\n",
    "    X = Dropout(rate = 0.5)(X)\n",
    "    # Propagate X trough another LSTM layer with 128-dimensional hidden state\n",
    "    # Be careful, the returned output should be a single hidden state, not a batch of sequences.\n",
    "    X = LSTM(128)(X)\n",
    "    # Add dropout with a probability of 0.5\n",
    "    X = Dropout(rate = 0.5)(X)\n",
    "    # Propagate X through a Dense layer with softmax activation to get back a batch of 5-dimensional vectors.\n",
    "    X = Dense(1, activation='sigmoid')(X)\n",
    "    \n",
    "    # Create Model instance which converts sentence_indices into X.\n",
    "    model = Model(inputs = sentence_indices, outputs = X)\n",
    "    \n",
    "    ### END CODE HERE ###\n",
    "    \n",
    "    return model"
   ]
  },
  {
   "cell_type": "code",
   "execution_count": 40,
   "metadata": {},
   "outputs": [
    {
     "name": "stderr",
     "output_type": "stream",
     "text": [
      "WARNING: Logging before flag parsing goes to stderr.\n",
      "W0801 12:12:31.690592 4702467520 deprecation_wrapper.py:119] From /Users/dulithadabare/anaconda3/envs/comment-net-nomkl/lib/python3.7/site-packages/keras/backend/tensorflow_backend.py:74: The name tf.get_default_graph is deprecated. Please use tf.compat.v1.get_default_graph instead.\n",
      "\n",
      "W0801 12:12:31.727398 4702467520 deprecation_wrapper.py:119] From /Users/dulithadabare/anaconda3/envs/comment-net-nomkl/lib/python3.7/site-packages/keras/backend/tensorflow_backend.py:517: The name tf.placeholder is deprecated. Please use tf.compat.v1.placeholder instead.\n",
      "\n",
      "W0801 12:12:32.940173 4702467520 deprecation_wrapper.py:119] From /Users/dulithadabare/anaconda3/envs/comment-net-nomkl/lib/python3.7/site-packages/keras/backend/tensorflow_backend.py:4138: The name tf.random_uniform is deprecated. Please use tf.random.uniform instead.\n",
      "\n",
      "W0801 12:12:32.974316 4702467520 deprecation_wrapper.py:119] From /Users/dulithadabare/anaconda3/envs/comment-net-nomkl/lib/python3.7/site-packages/keras/backend/tensorflow_backend.py:174: The name tf.get_default_session is deprecated. Please use tf.compat.v1.get_default_session instead.\n",
      "\n",
      "W0801 12:12:32.975734 4702467520 deprecation_wrapper.py:119] From /Users/dulithadabare/anaconda3/envs/comment-net-nomkl/lib/python3.7/site-packages/keras/backend/tensorflow_backend.py:181: The name tf.ConfigProto is deprecated. Please use tf.compat.v1.ConfigProto instead.\n",
      "\n",
      "W0801 12:12:33.916869 4702467520 deprecation.py:506] From /Users/dulithadabare/anaconda3/envs/comment-net-nomkl/lib/python3.7/site-packages/keras/backend/tensorflow_backend.py:3445: calling dropout (from tensorflow.python.ops.nn_ops) with keep_prob is deprecated and will be removed in a future version.\n",
      "Instructions for updating:\n",
      "Please use `rate` instead of `keep_prob`. Rate should be set to `rate = 1 - keep_prob`.\n"
     ]
    }
   ],
   "source": [
    "model = CommentNet((max_len,), word_to_vec_map, word_to_index, unkown_word_vector, unknown_word_index)"
   ]
  },
  {
   "cell_type": "code",
   "execution_count": 41,
   "metadata": {},
   "outputs": [
    {
     "name": "stdout",
     "output_type": "stream",
     "text": [
      "_________________________________________________________________\n",
      "Layer (type)                 Output Shape              Param #   \n",
      "=================================================================\n",
      "input_1 (InputLayer)         (None, 54)                0         \n",
      "_________________________________________________________________\n",
      "embedding_1 (Embedding)      (None, 54, 50)            20000100  \n",
      "_________________________________________________________________\n",
      "lstm_1 (LSTM)                (None, 54, 128)           91648     \n",
      "_________________________________________________________________\n",
      "dropout_1 (Dropout)          (None, 54, 128)           0         \n",
      "_________________________________________________________________\n",
      "lstm_2 (LSTM)                (None, 128)               131584    \n",
      "_________________________________________________________________\n",
      "dropout_2 (Dropout)          (None, 128)               0         \n",
      "_________________________________________________________________\n",
      "dense_1 (Dense)              (None, 1)                 129       \n",
      "=================================================================\n",
      "Total params: 20,223,461\n",
      "Trainable params: 223,361\n",
      "Non-trainable params: 20,000,100\n",
      "_________________________________________________________________\n"
     ]
    }
   ],
   "source": [
    "model.summary()"
   ]
  },
  {
   "cell_type": "code",
   "execution_count": 42,
   "metadata": {},
   "outputs": [
    {
     "name": "stderr",
     "output_type": "stream",
     "text": [
      "W0801 12:12:52.409955 4702467520 deprecation_wrapper.py:119] From /Users/dulithadabare/anaconda3/envs/comment-net-nomkl/lib/python3.7/site-packages/keras/optimizers.py:790: The name tf.train.Optimizer is deprecated. Please use tf.compat.v1.train.Optimizer instead.\n",
      "\n",
      "W0801 12:12:52.440247 4702467520 deprecation.py:323] From /Users/dulithadabare/anaconda3/envs/comment-net-nomkl/lib/python3.7/site-packages/tensorflow/python/ops/nn_impl.py:180: add_dispatch_support.<locals>.wrapper (from tensorflow.python.ops.array_ops) is deprecated and will be removed in a future version.\n",
      "Instructions for updating:\n",
      "Use tf.where in 2.0, which has the same broadcast rule as np.where\n"
     ]
    }
   ],
   "source": [
    "model.compile(loss='binary_crossentropy', optimizer='adam', metrics=['accuracy'])"
   ]
  },
  {
   "cell_type": "code",
   "execution_count": 51,
   "metadata": {},
   "outputs": [],
   "source": [
    "X_train_indices = sentences_to_indices(X_train, word_to_index, max_len, unknown_word_index)"
   ]
  },
  {
   "cell_type": "code",
   "execution_count": 54,
   "metadata": {},
   "outputs": [
    {
     "name": "stdout",
     "output_type": "stream",
     "text": [
      "Bethesda Please Give Us A Response\n",
      "[ 74527. 286531. 162051. 374021.  43010. 306549.      0.      0.      0.\n",
      "      0.      0.      0.      0.      0.      0.      0.      0.      0.\n",
      "      0.      0.      0.      0.      0.      0.      0.      0.      0.\n",
      "      0.      0.      0.      0.      0.      0.      0.      0.      0.\n",
      "      0.      0.      0.      0.      0.      0.      0.      0.      0.\n",
      "      0.      0.      0.      0.      0.      0.      0.      0.      0.]\n"
     ]
    }
   ],
   "source": [
    "train_index = 60\n",
    "print(X_train[train_index])\n",
    "print(X_train_indices[train_index])"
   ]
  },
  {
   "cell_type": "code",
   "execution_count": 69,
   "metadata": {},
   "outputs": [
    {
     "name": "stdout",
     "output_type": "stream",
     "text": [
      "Epoch 1/50\n",
      "100/100 [==============================] - 2s 20ms/step - loss: 0.6889 - acc: 0.6600\n",
      "Epoch 2/50\n",
      "100/100 [==============================] - 0s 4ms/step - loss: 0.6610 - acc: 0.7600\n",
      "Epoch 3/50\n",
      "100/100 [==============================] - 0s 5ms/step - loss: 0.6006 - acc: 0.7600\n",
      "Epoch 4/50\n",
      "100/100 [==============================] - 0s 5ms/step - loss: 0.5910 - acc: 0.7600\n",
      "Epoch 5/50\n",
      "100/100 [==============================] - 0s 5ms/step - loss: 0.5217 - acc: 0.7900\n",
      "Epoch 6/50\n",
      "100/100 [==============================] - 0s 4ms/step - loss: 0.5596 - acc: 0.7700\n",
      "Epoch 7/50\n",
      "100/100 [==============================] - 1s 6ms/step - loss: 0.5561 - acc: 0.7800\n",
      "Epoch 8/50\n",
      "100/100 [==============================] - 1s 5ms/step - loss: 0.5375 - acc: 0.7700\n",
      "Epoch 9/50\n",
      "100/100 [==============================] - 0s 4ms/step - loss: 0.5262 - acc: 0.7800\n",
      "Epoch 10/50\n",
      "100/100 [==============================] - 0s 4ms/step - loss: 0.5069 - acc: 0.7700\n",
      "Epoch 11/50\n",
      "100/100 [==============================] - 0s 4ms/step - loss: 0.4843 - acc: 0.8100\n",
      "Epoch 12/50\n",
      "100/100 [==============================] - 0s 4ms/step - loss: 0.4944 - acc: 0.8100\n",
      "Epoch 13/50\n",
      "100/100 [==============================] - 0s 5ms/step - loss: 0.4903 - acc: 0.7700\n",
      "Epoch 14/50\n",
      "100/100 [==============================] - 1s 6ms/step - loss: 0.4847 - acc: 0.8000\n",
      "Epoch 15/50\n",
      "100/100 [==============================] - 1s 5ms/step - loss: 0.4641 - acc: 0.8200\n",
      "Epoch 16/50\n",
      "100/100 [==============================] - 0s 4ms/step - loss: 0.4986 - acc: 0.8100\n",
      "Epoch 17/50\n",
      "100/100 [==============================] - 0s 4ms/step - loss: 0.4526 - acc: 0.8300\n",
      "Epoch 18/50\n",
      "100/100 [==============================] - 0s 4ms/step - loss: 0.4722 - acc: 0.7900\n",
      "Epoch 19/50\n",
      "100/100 [==============================] - 0s 4ms/step - loss: 0.4425 - acc: 0.8200\n",
      "Epoch 20/50\n",
      "100/100 [==============================] - 0s 4ms/step - loss: 0.4303 - acc: 0.8300\n",
      "Epoch 21/50\n",
      "100/100 [==============================] - 0s 5ms/step - loss: 0.4446 - acc: 0.8100\n",
      "Epoch 22/50\n",
      "100/100 [==============================] - 0s 4ms/step - loss: 0.4281 - acc: 0.8100\n",
      "Epoch 23/50\n",
      "100/100 [==============================] - 0s 4ms/step - loss: 0.4579 - acc: 0.8300\n",
      "Epoch 24/50\n",
      "100/100 [==============================] - 0s 4ms/step - loss: 0.3862 - acc: 0.8500\n",
      "Epoch 25/50\n",
      "100/100 [==============================] - 0s 4ms/step - loss: 0.3873 - acc: 0.8600\n",
      "Epoch 26/50\n",
      "100/100 [==============================] - 1s 6ms/step - loss: 0.3532 - acc: 0.8600\n",
      "Epoch 27/50\n",
      "100/100 [==============================] - 1s 5ms/step - loss: 0.4006 - acc: 0.8300\n",
      "Epoch 28/50\n",
      "100/100 [==============================] - 0s 4ms/step - loss: 0.3761 - acc: 0.8600\n",
      "Epoch 29/50\n",
      "100/100 [==============================] - 0s 5ms/step - loss: 0.3282 - acc: 0.8900\n",
      "Epoch 30/50\n",
      "100/100 [==============================] - 0s 4ms/step - loss: 0.3309 - acc: 0.9000\n",
      "Epoch 31/50\n",
      "100/100 [==============================] - 0s 4ms/step - loss: 0.3557 - acc: 0.8900\n",
      "Epoch 32/50\n",
      "100/100 [==============================] - 0s 4ms/step - loss: 0.2763 - acc: 0.9100\n",
      "Epoch 33/50\n",
      "100/100 [==============================] - 0s 4ms/step - loss: 0.2468 - acc: 0.9200\n",
      "Epoch 34/50\n",
      "100/100 [==============================] - 0s 4ms/step - loss: 0.3508 - acc: 0.8600\n",
      "Epoch 35/50\n",
      "100/100 [==============================] - 0s 4ms/step - loss: 0.2995 - acc: 0.8700\n",
      "Epoch 36/50\n",
      "100/100 [==============================] - 1s 6ms/step - loss: 0.2607 - acc: 0.9100\n",
      "Epoch 37/50\n",
      "100/100 [==============================] - 0s 5ms/step - loss: 0.2619 - acc: 0.9000\n",
      "Epoch 38/50\n",
      "100/100 [==============================] - 0s 4ms/step - loss: 0.3362 - acc: 0.8400\n",
      "Epoch 39/50\n",
      "100/100 [==============================] - 0s 4ms/step - loss: 0.3627 - acc: 0.8000\n",
      "Epoch 40/50\n",
      "100/100 [==============================] - 0s 4ms/step - loss: 0.3185 - acc: 0.8900\n",
      "Epoch 41/50\n",
      "100/100 [==============================] - 0s 4ms/step - loss: 0.3029 - acc: 0.9100\n",
      "Epoch 42/50\n",
      "100/100 [==============================] - 0s 4ms/step - loss: 0.2774 - acc: 0.9100\n",
      "Epoch 43/50\n",
      "100/100 [==============================] - 0s 4ms/step - loss: 0.2306 - acc: 0.9200\n",
      "Epoch 44/50\n",
      "100/100 [==============================] - 1s 5ms/step - loss: 0.1933 - acc: 0.9600\n",
      "Epoch 45/50\n",
      "100/100 [==============================] - 1s 5ms/step - loss: 0.1755 - acc: 0.9600\n",
      "Epoch 46/50\n",
      "100/100 [==============================] - 0s 4ms/step - loss: 0.1582 - acc: 0.9500\n",
      "Epoch 47/50\n",
      "100/100 [==============================] - 0s 4ms/step - loss: 0.1341 - acc: 0.9600\n",
      "Epoch 48/50\n",
      "100/100 [==============================] - 0s 4ms/step - loss: 0.1188 - acc: 0.9700\n",
      "Epoch 49/50\n",
      "100/100 [==============================] - 0s 4ms/step - loss: 0.1075 - acc: 0.9600\n",
      "Epoch 50/50\n",
      "100/100 [==============================] - 0s 4ms/step - loss: 0.1144 - acc: 0.9700\n"
     ]
    },
    {
     "data": {
      "text/plain": [
       "<keras.callbacks.History at 0x13bd367f0>"
      ]
     },
     "execution_count": 69,
     "metadata": {},
     "output_type": "execute_result"
    }
   ],
   "source": [
    "model.fit(X_train_indices, Y_train, epochs = 50, batch_size = 32, shuffle=True)"
   ]
  },
  {
   "cell_type": "code",
   "execution_count": 71,
   "metadata": {},
   "outputs": [],
   "source": [
    "X_test_indices = sentences_to_indices(X_test, word_to_index, max_len, unknown_word_index)"
   ]
  },
  {
   "cell_type": "code",
   "execution_count": 72,
   "metadata": {},
   "outputs": [
    {
     "name": "stdout",
     "output_type": "stream",
     "text": [
      "50/50 [==============================] - 0s 6ms/step\n",
      "\n",
      "Test accuracy =  0.6799999976158142\n"
     ]
    }
   ],
   "source": [
    "loss, acc = model.evaluate(X_test_indices, Y_test)\n",
    "print()\n",
    "print(\"Test accuracy = \", acc)"
   ]
  },
  {
   "cell_type": "code",
   "execution_count": 74,
   "metadata": {},
   "outputs": [
    {
     "name": "stdout",
     "output_type": "stream",
     "text": [
      "Expected label:1 prediction: We are officially considered beta testers 0\n",
      "Expected label:1 prediction: Saw my physical copy of no mans sky on the shelf 0\n",
      "Expected label:1 prediction: Bioware only YOU are to blame for the toxicity and lack of civility directed towards Anthem 0\n",
      "Expected label:1 prediction: EA straight up lied about duplicates 0\n",
      "Expected label:1 prediction: I wish I never supported Anthem by buying the game 0\n",
      "Expected label:1 prediction: EA doesn’t understand gamers Anthem survey 0\n",
      "Expected label:1 prediction: Literally eveything they say they fixed is broken 0\n",
      "Expected label:1 prediction: Enough Is Enough This loot discussion shouldnt even be happening Its ridiculous 0\n",
      "Expected label:1 prediction: You manifested a game littered with gamebreaking errors 0\n",
      "Expected label:1 prediction: You are keen to make this game an ongoing financial asset but are blinded by an disillusioned player base leaving in droves 0\n",
      "Expected label:1 prediction: Can we please just have a coop online PvE game 0\n",
      "Expected label:1 prediction: EA Just Played Every Single One of Us for Fools 0\n",
      "Expected label:1 prediction: An HONEST post on NMS and why Im cancelling my PC preorder 0\n",
      "Expected label:1 prediction: EA it’s very clear to everyone you aren’t listening 0\n",
      "Expected label:1 prediction: Defending bad PC launches ruins the future of PC gaming 0\n",
      "Expected label:1 prediction: Anthem reviews are seemingly harsher than other games because it failed at a time when gamers are just fed up with being overpromised and under delivered 0\n",
      "Expected label:1 prediction: You encourage coop play but force an environment which is devoid of any means of communication 0\n",
      "Expected label:1 prediction: Days Since Sean Murray Last Tweeted About The Game 85 0\n",
      "Expected label:1 prediction: A friendly reminder that EA is not your friend and never will be 0\n",
      "Expected label:1 prediction: The faces of the people in the background when he said listening to our player base especially the dude on the right reposted because I had a chat head on the old one 0\n",
      "Expected label:1 prediction: Here is feedback from an older gamer who has played every Fallout game at launch 0\n",
      "Expected label:1 prediction: I can defend this game because I enjoy it and I know others do too but I can’t defend Bethesda’s recent corporate decisions 0\n",
      "Expected label:1 prediction: Defending Bethesda does not help the Fallout community 0\n",
      "Expected label:1 prediction: You have a poor understanding of RPG mechanics and the basics of the looter shooter paradigm 0\n",
      "Expected label:1 prediction: The Biggest disappointment award on Steam 0\n",
      "Expected label:1 prediction: Youre Pissed You want to make a point once and for all Well what could hurt a game that has Real Money transactions for cosmetics lol yeah there are nearly none i know or is a live service more than anything 0\n",
      "Expected label:1 prediction: The real reason for LOOT BALANCE and STORE issues in Anthem 0\n",
      "Expected label:1 prediction: A compilation of clips of Sean Murray stating that youll be able to meet other players in NMS 0\n",
      "Expected label:1 prediction: PSA Were not demanding free content Were demanding that this live service game they sold to us AT FULL PRICE is exactly what they said it was 0\n",
      "Expected label:1 prediction: To BioWare Executive Leadership You stole a whole lot of money from us and we deserve a real and candid response about how youre going to turn this ship around 0\n",
      "Expected label:1 prediction: You have destroyed Bioware what was once the bastion of story driven RPGs now a shell of its former glory 0\n",
      "Expected label:1 prediction: Can We All Just Agree That Anthem Is Dead 0\n",
      "Expected label:1 prediction: Anthem is an actual scam 0\n",
      "Expected label:1 prediction: You in your hubris never learned from others mistakes and have only repeated their failures 0\n",
      "Expected label:1 prediction: Can we please stop nerfing weapons 0\n",
      "Test count : 50\n",
      "Error count : 35\n"
     ]
    }
   ],
   "source": [
    "X_test_indices = sentences_to_indices(X_test, word_to_index, max_len, unknown_word_index)\n",
    "pred = model.predict(X_test_indices)\n",
    "error_count = 0;\n",
    "for i in range(len(X_test)):\n",
    "    x = X_test_indices\n",
    "    num = np.argmax(pred[i])\n",
    "    if(num != Y_test[i]):\n",
    "        error_count = error_count + 1\n",
    "        print('Expected label:'+ str(Y_test[i]) + ' prediction: '+ X_test[i] + ' ' + str(num))\n",
    "print('Test count : ' + str(len(X_test)))\n",
    "print('Error count : ' + str(error_count))"
   ]
  },
  {
   "cell_type": "code",
   "execution_count": 75,
   "metadata": {},
   "outputs": [
    {
     "name": "stdout",
     "output_type": "stream",
     "text": [
      "Expected label:0 prediction: Mythbusters and mechanics not explicitly stated or clarified in the game anywhere 0\n",
      "Expected label:0 prediction: Heres why I think people arent getting legendaries and a potential bug 0\n",
      "Expected label:0 prediction: Im really surprised that nobody has really said it yet THANKS FOR LISTENING TO US 0\n",
      "Expected label:0 prediction: Seeing a lot of posts about players coming back to the game and now loving it Raise your hand if you never left because youve always loved the game 0\n",
      "Expected label:0 prediction: Bethesda Bethesda never changes 0\n",
      "Expected label:0 prediction: All I want for Christmas is for you to not give up on this game 0\n",
      "Expected label:0 prediction: The problem I have with the top tier loot in anthem is not the drop rate The real problem is that when it finally drops it feels nothing special 0\n",
      "Expected label:0 prediction: BioWare Pls dont give up on Anthem 0\n",
      "Expected label:0 prediction: Argue with me all you want but Bethesda is actually trying and I can’t thank them enough 0\n",
      "Expected label:0 prediction: Anyone else think this game is dope and doesn’t deserve all the hate I mean obviously things need to be fixed but by no means is this game ruined 0\n",
      "Expected label:0 prediction: Bugs after Patch 10114 0\n",
      "Expected label:0 prediction: Why is everyone mad at Bethesda for things breakingduring an event to figure out what will break 0\n",
      "Expected label:0 prediction: My project which can automatically build maps of every resource in the game world 0\n",
      "Expected label:0 prediction: Look guys Anthem is in a bad place right now but remember to be civil towards the devs They are people too and probably under a bit of stress right now Voice your feedback but be considerate and most of all remember there is an actual living person on the other side of it 0\n",
      "Expected label:0 prediction: Ive compiled a list of all known bugs in Fallout 76 xpost rFallout 0\n",
      "Test count : 50\n",
      "Error count : 15\n"
     ]
    }
   ],
   "source": [
    "correct_count = 0;\n",
    "for i in range(len(X_test)):\n",
    "    x = X_test_indices\n",
    "    num = np.argmax(pred[i])\n",
    "    if(num == Y_test[i]):\n",
    "        correct_count = correct_count + 1\n",
    "        print('Expected label:'+ str(Y_test[i]) + ' prediction: '+ X_test[i] + ' ' + str(num))\n",
    "print('Test count : ' + str(len(X_test)))\n",
    "print('Error count : ' + str(correct_count))"
   ]
  },
  {
   "cell_type": "code",
   "execution_count": null,
   "metadata": {},
   "outputs": [],
   "source": []
  }
 ],
 "metadata": {
  "kernelspec": {
   "display_name": "Python 3",
   "language": "python",
   "name": "python3"
  },
  "language_info": {
   "codemirror_mode": {
    "name": "ipython",
    "version": 3
   },
   "file_extension": ".py",
   "mimetype": "text/x-python",
   "name": "python",
   "nbconvert_exporter": "python",
   "pygments_lexer": "ipython3",
   "version": "3.7.3"
  }
 },
 "nbformat": 4,
 "nbformat_minor": 2
}
